{
 "cells": [
  {
   "cell_type": "markdown",
   "metadata": {},
   "source": [
    "## Prerequisite\n",
    "Install the python > 3.5\n",
    "Install the pip\n",
    "You can search the website for installation by yourself."
   ]
  },
  {
   "cell_type": "markdown",
   "metadata": {},
   "source": [
    "## Install dependencies"
   ]
  },
  {
   "cell_type": "markdown",
   "metadata": {},
   "source": [
    "### - install web3-gear\n",
    "You can find out the detail from here\n",
    "https://github.com/vechain/web3-gear"
   ]
  },
  {
   "cell_type": "markdown",
   "metadata": {},
   "source": [
    "Here is the quick start for Mac OSX\n",
    "```\n",
    "    $brew install openssl\n",
    "    $pip install web3-gear\n",
    "```"
   ]
  },
  {
   "cell_type": "markdown",
   "metadata": {},
   "source": [
    "### - install web3-python\n",
    "```\n",
    "    $pip install web3\n",
    "```"
   ]
  },
  {
   "cell_type": "markdown",
   "metadata": {},
   "source": [
    "## Setup a web3-gear\n",
    "For web3-gear is a bridger for web3 python to access the VeChain Thor node restful API.\n",
    "```\n",
    "    $web3-gear --endpoint https://<your node url>:<port>\n",
    "```"
   ]
  },
  {
   "cell_type": "markdown",
   "metadata": {},
   "source": [
    "## Play with the Web3 python on VeChain Thor Node restful API"
   ]
  },
  {
   "cell_type": "markdown",
   "metadata": {},
   "source": [
    "####  Get Block"
   ]
  },
  {
   "cell_type": "code",
   "execution_count": 1,
   "metadata": {},
   "outputs": [
    {
     "data": {
      "text/plain": [
       "1394669"
      ]
     },
     "execution_count": 1,
     "metadata": {},
     "output_type": "execute_result"
    }
   ],
   "source": [
    "from web3.auto import w3\n",
    "w3.eth.blockNumber"
   ]
  },
  {
   "cell_type": "code",
   "execution_count": 2,
   "metadata": {},
   "outputs": [
    {
     "data": {
      "text/plain": [
       "{'beneficiary': '0x2c593298dc0913e2bb43b383be74132dd3d98e0c',\n",
       " 'gasLimit': 15190066,\n",
       " 'gasUsed': 36582,\n",
       " 'hash': HexBytes('0x001547f1eaa47ca10b5e9a8c405165a49931ddcd433f0e811f4303bf94c8c0ec'),\n",
       " 'isTrunk': True,\n",
       " 'miner': '0xE5E8563F66dC334f9399A0D1a675eB4708f2217B',\n",
       " 'number': 1394673,\n",
       " 'parentHash': HexBytes('0x001547f0e4e33dfda017b70063821fcad5002317239cff3761f50fa0e36275b0'),\n",
       " 'receiptsRoot': HexBytes('0x1802054a5c00ec12acbdeb6a547879a63a8b06d6fd18c24908b9e413d2cc2544'),\n",
       " 'size': 435,\n",
       " 'stateRoot': HexBytes('0x8382646b0a297f6def323307c38b2a85ff304a40513783020478ab93dba15f43'),\n",
       " 'timestamp': 1544279170,\n",
       " 'totalDifficulty': 136360160,\n",
       " 'transactions': [HexBytes('0x67cf02a9ad570801732e66d05629bd48fcdc3d82e56869e4bf28d1f5f8fb8709')],\n",
       " 'transactionsRoot': HexBytes('0xbbb1c389e9d9841b557032e9386b2827b34fde61e0718dc2afb303add83b265a')}"
      ]
     },
     "execution_count": 2,
     "metadata": {},
     "output_type": "execute_result"
    }
   ],
   "source": [
    "dict(w3.eth.getBlock('latest'))"
   ]
  },
  {
   "cell_type": "markdown",
   "metadata": {},
   "source": [
    "#### Get Balance of VET"
   ]
  },
  {
   "cell_type": "code",
   "execution_count": 3,
   "metadata": {},
   "outputs": [
    {
     "data": {
      "text/plain": [
       "0.3"
      ]
     },
     "execution_count": 3,
     "metadata": {},
     "output_type": "execute_result"
    }
   ],
   "source": [
    "w3.eth.getBalance(\"0xA19e52007ebb4F2A6BBAd4e109405B41FE37b3f8\")/(10**18)"
   ]
  },
  {
   "cell_type": "markdown",
   "metadata": {},
   "source": [
    "#### Get Transaction And Recipient"
   ]
  },
  {
   "cell_type": "code",
   "execution_count": 7,
   "metadata": {},
   "outputs": [
    {
     "ename": "TypeError",
     "evalue": "getTransaction() got an unexpected keyword argument 'raw'",
     "output_type": "error",
     "traceback": [
      "\u001b[0;31m---------------------------------------------------------------------------\u001b[0m",
      "\u001b[0;31mTypeError\u001b[0m                                 Traceback (most recent call last)",
      "\u001b[0;32m<ipython-input-7-3bc75b8de3ee>\u001b[0m in \u001b[0;36m<module>\u001b[0;34m()\u001b[0m\n\u001b[0;32m----> 1\u001b[0;31m \u001b[0mw3\u001b[0m\u001b[0;34m.\u001b[0m\u001b[0meth\u001b[0m\u001b[0;34m.\u001b[0m\u001b[0mgetTransaction\u001b[0m\u001b[0;34m(\u001b[0m\u001b[0;34m\"0xe853fccc7f7bb1ab55717e4a28b022b99d600a585d8120ffe1ef98348699f93b\"\u001b[0m\u001b[0;34m,\u001b[0m \u001b[0mraw\u001b[0m\u001b[0;34m=\u001b[0m \u001b[0;32mTrue\u001b[0m\u001b[0;34m)\u001b[0m\u001b[0;34m\u001b[0m\u001b[0m\n\u001b[0m",
      "\u001b[0;31mTypeError\u001b[0m: getTransaction() got an unexpected keyword argument 'raw'"
     ]
    }
   ],
   "source": [
    "w3.eth.getTransaction(\"0xe853fccc7f7bb1ab55717e4a28b022b99d600a585d8120ffe1ef98348699f93b\", raw= True)"
   ]
  },
  {
   "cell_type": "code",
   "execution_count": 4,
   "metadata": {},
   "outputs": [
    {
     "data": {
      "text/plain": [
       "AttributeDict({'blockHash': HexBytes('0x0015481d9f255d30e1b13800e7b6340a8d736bef13cd96d45dee3aec66b5e5f1'),\n",
       " 'blockNumber': 1394717,\n",
       " 'contractAddress': None,\n",
       " 'cumulativeGasUsed': 21000,\n",
       " 'gasUsed': 21000,\n",
       " 'logs': [],\n",
       " 'status': 1,\n",
       " 'transactionHash': HexBytes('0xe853fccc7f7bb1ab55717e4a28b022b99d600a585d8120ffe1ef98348699f93b'),\n",
       " 'transactionIndex': 0})"
      ]
     },
     "execution_count": 4,
     "metadata": {},
     "output_type": "execute_result"
    }
   ],
   "source": [
    "w3.eth.getTransactionReceipt(\"0xe853fccc7f7bb1ab55717e4a28b022b99d600a585d8120ffe1ef98348699f93b\")"
   ]
  },
  {
   "cell_type": "code",
   "execution_count": null,
   "metadata": {},
   "outputs": [],
   "source": []
  }
 ],
 "metadata": {
  "kernelspec": {
   "display_name": "Python 3",
   "language": "python",
   "name": "python3"
  },
  "language_info": {
   "codemirror_mode": {
    "name": "ipython",
    "version": 3
   },
   "file_extension": ".py",
   "mimetype": "text/x-python",
   "name": "python",
   "nbconvert_exporter": "python",
   "pygments_lexer": "ipython3",
   "version": "3.6.4"
  }
 },
 "nbformat": 4,
 "nbformat_minor": 2
}
