{
 "cells": [
  {
   "cell_type": "markdown",
   "metadata": {},
   "source": [
    "## Prerequisite\n",
    "Install the python > 3.5\n",
    "Install the pip\n",
    "You can search the website for installation by yourself."
   ]
  },
  {
   "cell_type": "markdown",
   "metadata": {},
   "source": [
    "## Install dependencies"
   ]
  },
  {
   "cell_type": "markdown",
   "metadata": {},
   "source": [
    "### - install web3-gear\n",
    "You can find out the detail from here\n",
    "https://github.com/vechain/web3-gear"
   ]
  },
  {
   "cell_type": "markdown",
   "metadata": {},
   "source": [
    "Here is the quick start for Mac OSX\n",
    "```\n",
    "    $brew install openssl\n",
    "    $pip install web3-gear\n",
    "```"
   ]
  },
  {
   "cell_type": "markdown",
   "metadata": {},
   "source": [
    "### - install web3-python\n",
    "```\n",
    "    $pip install web3\n",
    "```"
   ]
  },
  {
   "cell_type": "markdown",
   "metadata": {},
   "source": [
    "### - debug issue\n",
    "Someone may encounter a issue likes: Can not import name \"keccak\".\n",
    "The solution is like\n",
    "```\n",
    "    $pip install requirements.txt\n",
    "    $pip uninstall pycryptodome\n",
    "    $pip install pycryptodome\n",
    "```"
   ]
  },
  {
   "cell_type": "markdown",
   "metadata": {},
   "source": [
    "## Setup a web3-gear\n",
    "For web3-gear is a bridger for web3 python to access the VeChain Thor node restful API.\n",
    "```\n",
    "    $web3-gear --endpoint https://<your node url>:<port>\n",
    "```"
   ]
  },
  {
   "cell_type": "markdown",
   "metadata": {},
   "source": [
    "## Play with the Web3 python on VeChain Thor Node restful API"
   ]
  },
  {
   "cell_type": "markdown",
   "metadata": {},
   "source": [
    "####  Get Block"
   ]
  },
  {
   "cell_type": "code",
   "execution_count": 2,
   "metadata": {},
   "outputs": [
    {
     "data": {
      "text/plain": [
       "1399443"
      ]
     },
     "execution_count": 2,
     "metadata": {},
     "output_type": "execute_result"
    }
   ],
   "source": [
    "from web3.auto import w3\n",
    "w3.eth.blockNumber"
   ]
  },
  {
   "cell_type": "code",
   "execution_count": 3,
   "metadata": {},
   "outputs": [
    {
     "data": {
      "text/plain": [
       "{'beneficiary': '0xeb0c565f69557481c6c7fa347cae273128a0996e',\n",
       " 'gasLimit': 15190066,\n",
       " 'gasUsed': 0,\n",
       " 'hash': HexBytes('0x00155a938ac78f6e9bb4b4d4fec46df9af031b02fde10c635febd7a724ee090a'),\n",
       " 'isTrunk': True,\n",
       " 'miner': '0x8EAEfDf7D25c001e7E59363C33D7F5AD47970086',\n",
       " 'number': 1399443,\n",
       " 'parentHash': HexBytes('0x00155a9293165989452614674fbce1a182630c7f06fd46b1c1e7fa4334cdbf52'),\n",
       " 'receiptsRoot': HexBytes('0x45b0cfc220ceec5b7c1c62c4d4193d38e4eba48e8815729ce75f9c0ab0e4c1c0'),\n",
       " 'size': 240,\n",
       " 'stateRoot': HexBytes('0xb2346fdd75047dce22e7b3836bd9492e9fe4d366789257ba6da60eb0a5324ffd'),\n",
       " 'timestamp': 1544326880,\n",
       " 'totalDifficulty': 136818046,\n",
       " 'transactions': [],\n",
       " 'transactionsRoot': HexBytes('0x45b0cfc220ceec5b7c1c62c4d4193d38e4eba48e8815729ce75f9c0ab0e4c1c0')}"
      ]
     },
     "execution_count": 3,
     "metadata": {},
     "output_type": "execute_result"
    }
   ],
   "source": [
    "dict(w3.eth.getBlock('latest'))"
   ]
  },
  {
   "cell_type": "markdown",
   "metadata": {},
   "source": [
    "#### Get Balance of VET"
   ]
  },
  {
   "cell_type": "code",
   "execution_count": 4,
   "metadata": {},
   "outputs": [
    {
     "data": {
      "text/plain": [
       "0.3"
      ]
     },
     "execution_count": 4,
     "metadata": {},
     "output_type": "execute_result"
    }
   ],
   "source": [
    "w3.eth.getBalance(\"0xA19e52007ebb4F2A6BBAd4e109405B41FE37b3f8\")/(10**18)"
   ]
  },
  {
   "cell_type": "markdown",
   "metadata": {},
   "source": [
    "#### Get Transaction And Recipient"
   ]
  },
  {
   "cell_type": "code",
   "execution_count": 5,
   "metadata": {},
   "outputs": [
    {
     "data": {
      "text/plain": [
       "AttributeDict({'blockHash': HexBytes('0x0015481d9f255d30e1b13800e7b6340a8d736bef13cd96d45dee3aec66b5e5f1'),\n",
       " 'blockNumber': 1394717,\n",
       " 'from': '0xa4aDAfAef9Ec07BC4Dc6De146934C7119341eE25',\n",
       " 'gas': 21000,\n",
       " 'gasPrice': 1,\n",
       " 'hash': HexBytes('0xe853fccc7f7bb1ab55717e4a28b022b99d600a585d8120ffe1ef98348699f93b'),\n",
       " 'input': '0x',\n",
       " 'nonce': 14759360175769494097,\n",
       " 'to': '0xb722b7D3Ac68269979fbF60b319FB5CD16d618E1',\n",
       " 'transactionIndex': 0,\n",
       " 'value': 358303678000000000000000})"
      ]
     },
     "execution_count": 5,
     "metadata": {},
     "output_type": "execute_result"
    }
   ],
   "source": [
    "w3.eth.getTransaction(\"0xe853fccc7f7bb1ab55717e4a28b022b99d600a585d8120ffe1ef98348699f93b\")"
   ]
  },
  {
   "cell_type": "code",
   "execution_count": 6,
   "metadata": {},
   "outputs": [
    {
     "data": {
      "text/plain": [
       "AttributeDict({'blockHash': HexBytes('0x0015481d9f255d30e1b13800e7b6340a8d736bef13cd96d45dee3aec66b5e5f1'),\n",
       " 'blockNumber': 1394717,\n",
       " 'contractAddress': None,\n",
       " 'cumulativeGasUsed': 21000,\n",
       " 'gasUsed': 21000,\n",
       " 'logs': [],\n",
       " 'status': 1,\n",
       " 'transactionHash': HexBytes('0xe853fccc7f7bb1ab55717e4a28b022b99d600a585d8120ffe1ef98348699f93b'),\n",
       " 'transactionIndex': 0})"
      ]
     },
     "execution_count": 6,
     "metadata": {},
     "output_type": "execute_result"
    }
   ],
   "source": [
    "w3.eth.getTransactionReceipt(\"0xe853fccc7f7bb1ab55717e4a28b022b99d600a585d8120ffe1ef98348699f93b\")"
   ]
  },
  {
   "cell_type": "code",
   "execution_count": null,
   "metadata": {},
   "outputs": [],
   "source": []
  }
 ],
 "metadata": {
  "kernelspec": {
   "display_name": "Python 3",
   "language": "python",
   "name": "python3"
  },
  "language_info": {
   "codemirror_mode": {
    "name": "ipython",
    "version": 3
   },
   "file_extension": ".py",
   "mimetype": "text/x-python",
   "name": "python",
   "nbconvert_exporter": "python",
   "pygments_lexer": "ipython3",
   "version": "3.6.4"
  }
 },
 "nbformat": 4,
 "nbformat_minor": 2
}
